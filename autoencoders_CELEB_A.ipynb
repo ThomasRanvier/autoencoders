{
 "cells": [
  {
   "cell_type": "code",
   "execution_count": 1,
   "metadata": {},
   "outputs": [],
   "source": [
    "%matplotlib inline\n",
    "\n",
    "import os\n",
    "os.environ['TF_CPP_MIN_LOG_LEVEL'] = '3'\n",
    "\n",
    "import matplotlib.pyplot as plt\n",
    "import numpy as np\n",
    "import pandas as pd\n",
    "import tensorflow as tf\n",
    "\n",
    "import utils\n",
    "import autoencoders"
   ]
  },
  {
   "cell_type": "code",
   "execution_count": 2,
   "metadata": {},
   "outputs": [
    {
     "name": "stdout",
     "output_type": "stream",
     "text": [
      "Default GPU Device: /device:GPU:0\n"
     ]
    }
   ],
   "source": [
    "if tf.test.gpu_device_name(): \n",
    "    print('Default GPU Device: {}'.format(tf.test.gpu_device_name()))\n",
    "else:\n",
    "    print(\"Please install GPU version of TF\")"
   ]
  },
  {
   "cell_type": "markdown",
   "metadata": {},
   "source": [
    "### Util functions"
   ]
  },
  {
   "cell_type": "code",
   "execution_count": 3,
   "metadata": {},
   "outputs": [],
   "source": [
    "def plot_images(batch, nb_imgs):\n",
    "    plt.figure(figsize=(20, 4))\n",
    "    for i in range(nb_imgs):\n",
    "        ax = plt.subplot(2, nb_imgs, i + 1)\n",
    "        plt.imshow(batch[i].squeeze())\n",
    "        ax.get_xaxis().set_visible(False)\n",
    "        ax.get_yaxis().set_visible(False)\n",
    "    plt.show()\n",
    "\n",
    "def plot_losses(losses, title='Evaluation losses'):\n",
    "    plt.plot([i + 1 for i in range(len(losses))], losses, 'red')\n",
    "    plt.title(title)\n",
    "    plt.show()\n",
    "\n",
    "def plot_results(mean_loss, batch_data, nb_imgs=9):\n",
    "    (x, y, y_hat) = batch_data\n",
    "    print(f'Mean loss: {round(mean_loss, 4)}')\n",
    "    print('Input')\n",
    "    plot_images(x, nb_imgs)\n",
    "    print('Target')\n",
    "    plot_images(y, nb_imgs)\n",
    "    print('Generated')\n",
    "    plot_images(y_hat, nb_imgs)"
   ]
  },
  {
   "cell_type": "markdown",
   "metadata": {},
   "source": [
    "# Celeb_a"
   ]
  },
  {
   "cell_type": "code",
   "execution_count": null,
   "metadata": {},
   "outputs": [],
   "source": [
    "(celeb_train, celeb_eval, celeb_test) = utils.load_dataset('celeb')"
   ]
  },
  {
   "cell_type": "code",
   "execution_count": null,
   "metadata": {},
   "outputs": [],
   "source": [
    "encoder = tf.keras.Sequential([\n",
    "    tf.keras.layers.Flatten(),\n",
    "    tf.keras.layers.Dense(64*64*3, activation='relu'),\n",
    "    tf.keras.layers.Dense(32*32*3, activation='relu'),\n",
    "])\n",
    "\n",
    "decoder = tf.keras.Sequential([\n",
    "    tf.keras.layers.Dense(64*64*3, activation='sigmoid'),\n",
    "    tf.keras.layers.Dense(218*178*3, activation='sigmoid'),\n",
    "    tf.keras.layers.Reshape((218, 178, 3))\n",
    "])\n",
    "\n",
    "conv_encoder = tf.keras.Sequential([\n",
    "    tf.keras.layers.Input(shape=(218, 178, 3)),\n",
    "    tf.keras.layers.Conv2D(64, (3,3), activation='relu', padding='same', strides=2),\n",
    "    tf.keras.layers.Conv2D(16, (3,3), activation='relu', padding='same', strides=2)\n",
    "])\n",
    "\n",
    "conv_decoder = tf.keras.Sequential([\n",
    "    tf.keras.layers.Conv2DTranspose(16, kernel_size=3, strides=2, activation='relu', padding='same'),\n",
    "    tf.keras.layers.Conv2DTranspose(64, kernel_size=3, strides=2, activation='relu', padding='same'),\n",
    "    tf.keras.layers.Conv2D(3, kernel_size=(3,3), activation='sigmoid', padding='same')\n",
    "])"
   ]
  },
  {
   "cell_type": "code",
   "execution_count": null,
   "metadata": {},
   "outputs": [],
   "source": [
    "default_celeb_cifar_autoencoder = autoencoders.Autoencoder(encoder, decoder)\n",
    "eval_losses = default_celeb_cifar_autoencoder.fit(celeb_train, celeb_eval, epochs=20)\n",
    "plot_losses(eval_losses)\n",
    "plot_results(*default_celeb_cifar_autoencoder.evaluate(celeb_test))"
   ]
  },
  {
   "cell_type": "code",
   "execution_count": null,
   "metadata": {},
   "outputs": [],
   "source": [
    "conv_celeb_cifar_autoencoder = autoencoders.Autoencoder(conv_encoder, conv_decoder)\n",
    "eval_losses = conv_celeb_cifar_autoencoder.fit(celeb_train, celeb_eval, epochs=20)\n",
    "plot_losses(eval_losses)\n",
    "plot_results(*conv_celeb_cifar_autoencoder.evaluate(celeb_test))"
   ]
  },
  {
   "cell_type": "code",
   "execution_count": null,
   "metadata": {},
   "outputs": [],
   "source": []
  },
  {
   "cell_type": "code",
   "execution_count": null,
   "metadata": {},
   "outputs": [],
   "source": []
  },
  {
   "cell_type": "code",
   "execution_count": null,
   "metadata": {},
   "outputs": [],
   "source": []
  },
  {
   "cell_type": "code",
   "execution_count": null,
   "metadata": {},
   "outputs": [],
   "source": []
  },
  {
   "cell_type": "code",
   "execution_count": null,
   "metadata": {},
   "outputs": [],
   "source": []
  },
  {
   "cell_type": "code",
   "execution_count": null,
   "metadata": {},
   "outputs": [],
   "source": []
  }
 ],
 "metadata": {
  "kernelspec": {
   "display_name": "Python 3",
   "language": "python",
   "name": "python3"
  },
  "language_info": {
   "codemirror_mode": {
    "name": "ipython",
    "version": 3
   },
   "file_extension": ".py",
   "mimetype": "text/x-python",
   "name": "python",
   "nbconvert_exporter": "python",
   "pygments_lexer": "ipython3",
   "version": "3.7.4"
  }
 },
 "nbformat": 4,
 "nbformat_minor": 2
}
